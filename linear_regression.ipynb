{
  "nbformat": 4,
  "nbformat_minor": 0,
  "metadata": {
    "colab": {
      "provenance": [],
      "toc_visible": true,
      "authorship_tag": "ABX9TyNBC4V8u+553Up/EenVitJm",
      "include_colab_link": true
    },
    "kernelspec": {
      "name": "python3",
      "display_name": "Python 3"
    },
    "language_info": {
      "name": "python"
    }
  },
  "cells": [
    {
      "cell_type": "markdown",
      "metadata": {
        "id": "view-in-github",
        "colab_type": "text"
      },
      "source": [
        "<a href=\"https://colab.research.google.com/github/Salus101/linearRegress/blob/main/linear_regression.ipynb\" target=\"_parent\"><img src=\"https://colab.research.google.com/assets/colab-badge.svg\" alt=\"Open In Colab\"/></a>"
      ]
    },
    {
      "cell_type": "markdown",
      "source": [
        "generate a fictitious dataset"
      ],
      "metadata": {
        "id": "Tq-dG1DwhiFi"
      }
    },
    {
      "cell_type": "code",
      "execution_count": 3,
      "metadata": {
        "id": "PuRaWDxKejdt"
      },
      "outputs": [],
      "source": [
        "import numpy as np\n",
        "X = 2 * np.random.rand(100,1)\n",
        "y = 4 + 3 * X + np.random.randn(100,1)"
      ]
    },
    {
      "cell_type": "markdown",
      "source": [
        "plot it"
      ],
      "metadata": {
        "id": "2f0jmrKDhq70"
      }
    },
    {
      "cell_type": "code",
      "source": [
        "import matplotlib.pyplot as plt\n",
        "plt.plot(X, y, \"b.\")\n",
        "plt.axis([0,2,0,15])\n",
        "plt.show()"
      ],
      "metadata": {
        "id": "YIKVWn2AfK98",
        "colab": {
          "base_uri": "https://localhost:8080/",
          "height": 265
        },
        "outputId": "dfda8a00-faff-4445-8bd0-0e0ddaa1419f"
      },
      "execution_count": 4,
      "outputs": [
        {
          "output_type": "display_data",
          "data": {
            "text/plain": [
              "<Figure size 432x288 with 1 Axes>"
            ],
            "image/png": "[encoded data removed]"
          },
          "metadata": {
            "needs_background": "light"
          }
        }
      ]
    },
    {
      "cell_type": "markdown",
      "source": [
        "Scikit learn defines the class LinearRegression in its linear_model\n",
        "module.\n",
        "• We create an object of this class and then call its fit method, passing\n",
        "in the inputs X and the outputs y from out dataset.\n",
        "• The predict method generates the estimated values of y (i.e. the\n",
        "points on the estimated line)"
      ],
      "metadata": {
        "id": "USfyCd7Gh5V6"
      }
    },
    {
      "cell_type": "code",
      "source": [
        "from sklearn.linear_model import LinearRegression\n",
        "lin_reg = LinearRegression()\n",
        "lin_reg.fit(X,y)\n",
        "y_pred = lin_reg.predict(X)"
      ],
      "metadata": {
        "id": "9Ki5k78GgSVs"
      },
      "execution_count": 6,
      "outputs": []
    },
    {
      "cell_type": "markdown",
      "source": [
        "We can plot the line that has been found and verify that indeed it is a\n",
        "good enough fit."
      ],
      "metadata": {
        "id": "kwlFo7WXiC9q"
      }
    },
    {
      "cell_type": "code",
      "source": [
        "plt.scatter(X,y,color=\"blue\")\n",
        "plt.plot(X,y_pred,color=\"red\", linewidth=3)"
      ],
      "metadata": {
        "colab": {
          "base_uri": "https://localhost:8080/",
          "height": 282
        },
        "id": "T9yrrwXOgSS1",
        "outputId": "5a99e80f-8166-4187-983d-1457cd11ee38"
      },
      "execution_count": 7,
      "outputs": [
        {
          "output_type": "execute_result",
          "data": {
            "text/plain": [
              "[<matplotlib.lines.Line2D at 0x7f75c8684e80>]"
            ]
          },
          "metadata": {},
          "execution_count": 7
        },
        {
          "output_type": "display_data",
          "data": {
            "text/plain": [
              "<Figure size 432x288 with 1 Axes>"
            ],
            "image/png": "[encoded data removed]"
          },
          "metadata": {
            "needs_background": "light"
          }
        }
      ]
    },
    {
      "cell_type": "code",
      "source": [],
      "metadata": {
        "id": "P9MawQkkhQb_"
      },
      "execution_count": null,
      "outputs": []
    }
  ]
}